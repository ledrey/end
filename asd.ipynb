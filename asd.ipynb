{
 "cells": [
  {
   "cell_type": "code",
   "execution_count": null,
   "id": "6f2d83a7",
   "metadata": {},
   "outputs": [],
   "source": [
    "import pandas as pd\n",
    "\n",
    "data = pd.read_csv('data.tsv', sep = '\\t', keep_default_na = False)"
   ]
  },
  {
   "cell_type": "code",
   "execution_count": null,
   "id": "16da4923",
   "metadata": {},
   "outputs": [],
   "source": [
    "import pandas as pd\n",
    "from gensim import corpora\n",
    "from collections import defaultdict\n",
    "data = pd.read_csv('data.tsv', sep = '\\t', keep_default_na = False)\n",
    "from nltk.tokenize import word_tokenize\n",
    "from nltk.corpus import stopwords\n",
    "wordsToDel = stopwords.words('english')\n",
    "data['abs'] = data['Abstract'].apply(word_tokenize)\n",
    "data['abs'] = [word for word in data['abs'] if not word in wordsToDel]\n",
    "from nltk.stem import WordNetLemmatizer\n",
    "def lemmatize(text):\n",
    "  wnl = WordNetLemmatizer()\n",
    "  return [wnl.lemmatize(w) for w in text]\n",
    "from nltk.stem.snowball import SnowballStemmer\n",
    "stemmer = SnowballStemmer('english', ignore_stopwords=False)\n",
    "data['lem'] = data['abs'].apply(stemmer.stem)"
   ]
  }
 ],
 "metadata": {
  "kernelspec": {
   "display_name": "Python 3 (ipykernel)",
   "language": "python",
   "name": "python3"
  },
  "language_info": {
   "codemirror_mode": {
    "name": "ipython",
    "version": 3
   },
   "file_extension": ".py",
   "mimetype": "text/x-python",
   "name": "python",
   "nbconvert_exporter": "python",
   "pygments_lexer": "ipython3",
   "version": "3.8.9"
  }
 },
 "nbformat": 4,
 "nbformat_minor": 5
}
