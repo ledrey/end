{
 "cells": [
  {
   "cell_type": "code",
   "execution_count": 1,
   "id": "6f2d83a7",
   "metadata": {},
   "outputs": [
    {
     "name": "stderr",
     "output_type": "stream",
     "text": [
      "C:\\Users\\pesch\\AppData\\Local\\Temp\\ipykernel_14528\\3451019758.py:3: FutureWarning: The error_bad_lines argument has been deprecated and will be removed in a future version. Use on_bad_lines in the future.\n",
      "\n",
      "\n",
      "  data = pd.read_csv('data.tsv', sep = '\\t', keep_default_na = False, error_bad_lines = False, dtype='unicode')\n"
     ]
    }
   ],
   "source": [
    "import pandas as pd\n",
    "\n",
    "data = pd.read_csv('data.tsv', sep = '\\t', keep_default_na = False, error_bad_lines = False, dtype='unicode')"
   ]
  },
  {
   "cell_type": "code",
   "execution_count": null,
   "id": "16da4923",
   "metadata": {},
   "outputs": [],
   "source": [
    "from nltk.tokenize import word_tokenize\n",
    "from nltk.corpus import stopwords\n",
    "wordsToDel = stopwords.words('english')\n",
    "data['abs'] = data['Abstract'].apply(word_tokenize)\n",
    "data['abs'] = [word for word in data['abs'] if not word in wordsToDel]"
   ]
  },
  {
   "cell_type": "code",
   "execution_count": null,
   "id": "9ca26e05",
   "metadata": {},
   "outputs": [],
   "source": [
    "from nltk.stem import WordNetLemmatizer\n",
    "def lemmatize(text):\n",
    "  wnl = WordNetLemmatizer()\n",
    "  return [wnl.lemmatize(w) for w in text]\n",
    "# from nltk.stem.snowball import SnowballStemmer\n",
    "# stemmer = SnowballStemmer('english', ignore_stopwords=False)\n",
    "data['lem'] = data['abs'].apply(lemmatize)"
   ]
  }
 ],
 "metadata": {
  "kernelspec": {
   "display_name": "Python 3 (ipykernel)",
   "language": "python",
   "name": "python3"
  },
  "language_info": {
   "codemirror_mode": {
    "name": "ipython",
    "version": 3
   },
   "file_extension": ".py",
   "mimetype": "text/x-python",
   "name": "python",
   "nbconvert_exporter": "python",
   "pygments_lexer": "ipython3",
   "version": "3.10.4"
  }
 },
 "nbformat": 4,
 "nbformat_minor": 5
}
