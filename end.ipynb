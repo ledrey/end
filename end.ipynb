{
 "cells": [
  {
   "cell_type": "code",
   "execution_count": 19,
   "id": "6f2d83a7",
   "metadata": {},
   "outputs": [
    {
     "name": "stderr",
     "output_type": "stream",
     "text": [
      "C:\\Users\\pesch\\AppData\\Local\\Temp\\ipykernel_14528\\1541130175.py:3: DtypeWarning: Columns (35) have mixed types. Specify dtype option on import or set low_memory=False.\n",
      "  data = pd.read_csv('data.tsv', sep = '\\t', keep_default_na = False)\n"
     ]
    }
   ],
   "source": [
    "import pandas as pd\n",
    "\n",
    "data = pd.read_csv('data.tsv', sep = '\\t', keep_default_na = False)"
   ]
  },
  {
   "cell_type": "code",
   "execution_count": 40,
   "id": "16da4923",
   "metadata": {},
   "outputs": [],
   "source": [
    "from nltk.tokenize import word_tokenize\n",
    "from nltk.corpus import stopwords\n",
    "from nltk.stem import WordNetLemmatizer\n",
    "\n",
    "data['abs'] = data['Abstract'].str.lower().apply(word_tokenize)\n",
    "\n",
    "def delSW(text):\n",
    "  stop_words = stopwords.words('english')\n",
    "  stop_words.extend([',','.',';',':','(',')',\"'\"])\n",
    "  return [word for word in text if word not in stop_words]\n",
    "\n",
    "def lemmatize(text):\n",
    "  wnl = WordNetLemmatizer()\n",
    "  return [wnl.lemmatize(w) for w in text]\n",
    "\n",
    "data['tokened'] = data['abs'].apply(delSW)\n",
    "data['lemmed'] = data['tokened'].apply(lemmatize)"
   ]
  }
 ],
 "metadata": {
  "kernelspec": {
   "display_name": "Python 3 (ipykernel)",
   "language": "python",
   "name": "python3"
  },
  "language_info": {
   "codemirror_mode": {
    "name": "ipython",
    "version": 3
   },
   "file_extension": ".py",
   "mimetype": "text/x-python",
   "name": "python",
   "nbconvert_exporter": "python",
   "pygments_lexer": "ipython3",
   "version": "3.10.4"
  }
 },
 "nbformat": 4,
 "nbformat_minor": 5
}
